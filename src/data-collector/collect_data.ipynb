{
 "cells": [
  {
   "cell_type": "code",
   "execution_count": 1,
   "metadata": {},
   "outputs": [],
   "source": [
    "from riotwatcher import LolWatcher, RiotWatcher, ApiError\n",
    "import time\n",
    "import pandas as pd\n",
    "from proj_utils import REGIONS\n",
    "APIKEY = open(\"riot.txt\", \"r\").readline()\n",
    "\n",
    "lolWatcher = LolWatcher(APIKEY)\n",
    "riotWatcher = RiotWatcher(APIKEY)\n",
    "\n",
    "REGION = \"eun1\"\n",
    "PLATFORM = \"EUROPE\"\n",
    "# QUEUE = \"RANKED_SOLO_5x5\" \"RANKED_FLEX_SR\" \"RANKED_FLEX_TT\""
   ]
  },
  {
   "cell_type": "code",
   "execution_count": 29,
   "metadata": {},
   "outputs": [
    {
     "data": {
      "text/plain": [
       "{'11': \"Summoner's Rift\",\n",
       " '12': 'Howling Abyss',\n",
       " '21': 'Nexus Blitz',\n",
       " '22': 'Teamfight Tactics',\n",
       " '30': 'Arena'}"
      ]
     },
     "execution_count": 29,
     "metadata": {},
     "output_type": "execute_result"
    }
   ],
   "source": [
    "latestVersion = lolWatcher.data_dragon.versions_all()[0]\n",
    "mapData = lolWatcher.data_dragon.maps(latestVersion)\n",
    "mapIdMapping = {data[0]:data[1]['MapName'] for data in mapData['data'].items()}\n"
   ]
  },
  {
   "cell_type": "code",
   "execution_count": 33,
   "metadata": {},
   "outputs": [
    {
     "data": {
      "text/plain": [
       "'14.11.1'"
      ]
     },
     "execution_count": 33,
     "metadata": {},
     "output_type": "execute_result"
    }
   ],
   "source": [
    "lolWatcher.match.by_id(REGION, \"EUN1_3592439807\")['info']\n",
    "latestVersion"
   ]
  },
  {
   "cell_type": "code",
   "execution_count": 11,
   "metadata": {},
   "outputs": [],
   "source": [
    "### Define input parameters | starting node\n",
    "REGION = \"eun1\"\n",
    "PLATFORM = \"EUROPE\"\n",
    "USER = \"BoldogKatica1#EUNE\"\n",
    "USERNAME, USERTAG = USER.split('#')\n",
    "\n",
    "# Filter values\n",
    "gameVersion = '14.11.589.9418'\n",
    "gameVersion = '14.11'\n",
    "mapId = 12\n",
    "gameMode = 'ARAM' # CHERRY"
   ]
  },
  {
   "cell_type": "code",
   "execution_count": 12,
   "metadata": {},
   "outputs": [
    {
     "data": {
      "text/plain": [
       "'BoldogKatica1'"
      ]
     },
     "execution_count": 12,
     "metadata": {},
     "output_type": "execute_result"
    }
   ],
   "source": [
    "### subfunctions\n",
    "USERNAME"
   ]
  },
  {
   "cell_type": "code",
   "execution_count": null,
   "metadata": {},
   "outputs": [],
   "source": []
  }
 ],
 "metadata": {
  "kernelspec": {
   "display_name": "env",
   "language": "python",
   "name": "python3"
  },
  "language_info": {
   "codemirror_mode": {
    "name": "ipython",
    "version": 3
   },
   "file_extension": ".py",
   "mimetype": "text/x-python",
   "name": "python",
   "nbconvert_exporter": "python",
   "pygments_lexer": "ipython3",
   "version": "3.11.7"
  }
 },
 "nbformat": 4,
 "nbformat_minor": 2
}

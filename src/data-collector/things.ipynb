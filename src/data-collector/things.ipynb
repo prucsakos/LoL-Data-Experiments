{
 "cells": [
  {
   "cell_type": "code",
   "execution_count": 2,
   "metadata": {},
   "outputs": [],
   "source": [
    "from riotwatcher import LolWatcher, RiotWatcher, ApiError\n",
    "import time\n",
    "import pandas as pd\n",
    "from proj_utils import REGIONS\n",
    "APIKEY = open(\"riot.txt\", \"r\").readline()\n",
    "\n",
    "lolWatcher = LolWatcher(APIKEY)\n",
    "riotWatcher = RiotWatcher(APIKEY)\n",
    "\n",
    "REGION = \"eun1\"\n",
    "PLATFORM = \"EUROPE\"\n",
    "# QUEUE = \"RANKED_SOLO_5x5\" \"RANKED_FLEX_SR\" \"RANKED_FLEX_TT\""
   ]
  },
  {
   "cell_type": "code",
   "execution_count": 4,
   "metadata": {},
   "outputs": [],
   "source": [
    "class DataDragonUtility:\n",
    "    def __init__(self):\n",
    "        self.currentVersion = lolWatcher.data_dragon.versions_all()[0]\n",
    "        self.items = lolWatcher.data_dragon.items(version=self.currentVersion)\n",
    "        \n",
    "    def itemIdToName(self, id):\n",
    "        return self.items[\"data\"][str(id)][\"name\"]\n",
    "    \n",
    "def accountByRiotId(gameName, tagLine, platform=PLATFORM):\n",
    "# {'puuid': 'vEgBphSIP4kLidak6uIjOpxOBdvA6oAC_8hL2hKFm22O0WdqmxCkH-B_ARGTCns6KAkwDjKB5e0lhw', \n",
    "# 'gameName': 'BoldogKatica1', 'tagLine': 'EUNE'}\n",
    "    return riotWatcher.account.by_riot_id(platform, gameName, tagLine)\n",
    "\n",
    "def summonerByPuuid(puuid, region=REGION):\n",
    "# {'id': 'cOhTGpoZzlyUAXZ1_17XAmr73Tl1W35ZM4904B-uWoYcbUw', 'accountId': 'WKGBVBYq-6X_SbxGPc0Q0Oj15-9jFLYd53cdPTUCQ1PASA',\n",
    "# 'puuid': 'vEgBphSIP4kLidak6uIjOpxOBdvA6oAC_8hL2hKFm22O0WdqmxCkH-B_ARGTCns6KAkwDjKB5e0lhw', 'profileIconId': 1638, 'revisionDate': 1717009508223, 'summonerLevel': 501}\n",
    "    return lolWatcher.summoner.by_puuid(region, puuid)\n",
    "\n",
    "def matchlistByPuuid(puuid, \n",
    "    count=1, \n",
    "    region=REGION,\n",
    "    start = None,\n",
    "    queue = None,\n",
    "    type = None,\n",
    "    start_time = None,\n",
    "    end_time = None\n",
    "    ):\n",
    "# ['EUN1_3603423536', 'EUN1_3603410322', 'EUN1_3603355849']\n",
    "# type = normal, tournament, ranked, tutorial\n",
    "    return lolWatcher.match.matchlist_by_puuid(\n",
    "        region = region,\n",
    "        puuid = puuid,\n",
    "        start = start,\n",
    "        count = count,\n",
    "        queue = queue,\n",
    "        type = type,\n",
    "        start_time = start_time,\n",
    "        end_time = end_time\n",
    "        )\n",
    "\n",
    "def timelineByMatch(matchId, region=REGION):\n",
    "# https://developer.riotgames.com/apis#match-v5/GET_getTimeline\n",
    "    return lolWatcher.match.timeline_by_match(region, matchId)\n",
    "\n",
    "def timelineMatchToEvents(matchTimelineData, include = None):\n",
    "    eventFrames = [frame[\"events\"] for frame in matchTimelineData[\"info\"][\"frames\"]]\n",
    "    events = []\n",
    "    if include:\n",
    "        [events.append(event) for frame in eventFrames for event in frame if event[\"type\"] in include]\n",
    "    else:\n",
    "        [events.append(event) for frame in eventFrames for event in frame]\n",
    "    return events\n"
   ]
  },
  {
   "cell_type": "code",
   "execution_count": 7,
   "metadata": {},
   "outputs": [
    {
     "name": "stdout",
     "output_type": "stream",
     "text": [
      "puuid:  vEgBphSIP4kLidak6uIjOpxOBdvA6oAC_8hL2hKFm22O0WdqmxCkH-B_ARGTCns6KAkwDjKB5e0lhw\n"
     ]
    }
   ],
   "source": [
    "ddu = DataDragonUtility()\n",
    "\n",
    "me = (\"BoldogKatica1\", \"EUNE\")\n",
    "account = accountByRiotId(me[0], me[1])\n",
    "summoner = summonerByPuuid(account[\"puuid\"])\n",
    "matches = matchlistByPuuid(account[\"puuid\"], count=10, type=\"normal\")\n",
    "lastMatch = matches[0]\n",
    "matchData = timelineByMatch(lastMatch)\n",
    "\n",
    "print(\"puuid: \", account[\"puuid\"])\n"
   ]
  },
  {
   "cell_type": "code",
   "execution_count": 8,
   "metadata": {},
   "outputs": [
    {
     "data": {
      "text/plain": [
       "['EUN1_3604522903',\n",
       " 'EUN1_3604518964',\n",
       " 'EUN1_3604521658',\n",
       " 'EUN1_3601820950',\n",
       " 'EUN1_3594803484',\n",
       " 'EUN1_3593454384',\n",
       " 'EUN1_3592995925',\n",
       " 'EUN1_3592488047',\n",
       " 'EUN1_3592471416',\n",
       " 'EUN1_3592439807']"
      ]
     },
     "execution_count": 8,
     "metadata": {},
     "output_type": "execute_result"
    }
   ],
   "source": [
    "matches\n"
   ]
  },
  {
   "cell_type": "code",
   "execution_count": 40,
   "metadata": {},
   "outputs": [],
   "source": [
    "### Sample match\n",
    "# include = [\"ITEM_UNDO\", \"ITEM_PURCHASED\", \"ITEM_DESTROYED\"]\n",
    "# events = timelineMatchToEvents(matchData, include=include)\n",
    "# for e in events:\n",
    "#     if e[\"type\"] == \"ITEM_UNDO\":\n",
    "#         print(\"Player:\", e[\"participantId\"], e[\"type\"], ddu.itemIdToName(e[\"beforeId\"]), e[\"timestamp\"])\n",
    "#     else:\n",
    "#         print(\"Player:\", e[\"participantId\"], e[\"type\"], ddu.itemIdToName(e[\"itemId\"]), e[\"timestamp\"])"
   ]
  },
  {
   "cell_type": "code",
   "execution_count": 8,
   "metadata": {},
   "outputs": [
    {
     "name": "stdout",
     "output_type": "stream",
     "text": [
      "Reading: EUN1\n",
      "Reading: EUW1\n",
      "Reading: JP1\n",
      "Reading: KR\n",
      "Failed:  KR RANKED_FLEX_SR GOLD IV\n",
      "Failed:  KR RANKED_FLEX_SR SILVER I\n",
      "Failed:  KR RANKED_FLEX_SR SILVER II\n",
      "Reading: NA1\n",
      "Reading: OC1\n",
      "Reading: RU\n",
      "Reading: TR1\n"
     ]
    }
   ],
   "source": [
    "# get summoners from different divisions\n",
    "DIVS = [\"I\", \"II\", \"III\", \"IV\"]\n",
    "TIERS = [\"DIAMOND\", \"EMERALD\", \"PLATINUM\", \"GOLD\", \"SILVER\", \"BRONZE\", \"IRON\"]\n",
    "QUEUES = [\n",
    "          \"RANKED_SOLO_5x5\", \n",
    "          \"RANKED_FLEX_SR\", \n",
    "#          \"RANKED_FLEX_TT\"\n",
    "          ]\n",
    "\n",
    "players = set()\n",
    "\n",
    "for region in REGIONS:\n",
    "    for queue in QUEUES:\n",
    "        ### rate limit: 100 requests every 2 minutes(s)\n",
    "        time.sleep(120./100.)\n",
    "        try:\n",
    "            leagueList = lolWatcher.league.challenger_by_queue(region, queue)\n",
    "            for playerInfo in leagueList[\"entries\"]:\n",
    "                entry = (region,\n",
    "                            queue,\n",
    "                            \"CHALLENGER\",\n",
    "                            \"I\",\n",
    "                            leagueList[\"leagueId\"],\n",
    "                            playerInfo[\"summonerId\"],\n",
    "                            playerInfo[\"wins\"],\n",
    "                            playerInfo[\"losses\"],\n",
    "                            playerInfo[\"leaguePoints\"]\n",
    "                            )\n",
    "                players.add(entry)\n",
    "        except:\n",
    "            print(\"Failed: \", region, queue, \"challenger\")\n",
    "            \n",
    "        time.sleep(120./100.)\n",
    "        \n",
    "        try:\n",
    "            leagueList = lolWatcher.league.masters_by_queue(region, queue)\n",
    "            for playerInfo in leagueList[\"entries\"]:\n",
    "                entry = (region,\n",
    "                            queue,\n",
    "                            \"MASTER\",\n",
    "                            \"I\",\n",
    "                            leagueList[\"leagueId\"],\n",
    "                            playerInfo[\"summonerId\"],\n",
    "                            playerInfo[\"wins\"],\n",
    "                            playerInfo[\"losses\"],\n",
    "                            playerInfo[\"leaguePoints\"]\n",
    "                            )\n",
    "                players.add(entry)\n",
    "        except:\n",
    "            print(\"Failed: \", region, queue, \"masters\")\n",
    "\n",
    "        time.sleep(120./100.)\n",
    "        \n",
    "        try:\n",
    "            leagueList = lolWatcher.league.grandmaster_by_queue(region, queue)\n",
    "            for playerInfo in leagueList[\"entries\"]:\n",
    "                entry = (region,\n",
    "                            queue,\n",
    "                            \"GRANDMASTER\",\n",
    "                            \"I\",\n",
    "                            leagueList[\"leagueId\"],\n",
    "                            playerInfo[\"summonerId\"],\n",
    "                            playerInfo[\"wins\"],\n",
    "                            playerInfo[\"losses\"],\n",
    "                            playerInfo[\"leaguePoints\"]\n",
    "                            )\n",
    "                players.add(entry)\n",
    "        except:\n",
    "            print(\"Failed: \", region, queue, \"gransmasters\")\n",
    "\n",
    "for region in REGIONS:\n",
    "    print(\"Reading:\", str(region))\n",
    "    for queue in QUEUES:\n",
    "        for tier in TIERS:\n",
    "            for div in DIVS:\n",
    "                ### rate limit: 100 requests every 2 minutes(s)\n",
    "                time.sleep(120./100.)\n",
    "                try:\n",
    "                    playerInfoList = lolWatcher.league.entries(region, queue, tier, div, page=5)\n",
    "                    for playerInfo in playerInfoList:\n",
    "                        entry = (region,\n",
    "                                queue,\n",
    "                                tier,\n",
    "                                div,\n",
    "                                playerInfo[\"leagueId\"],\n",
    "                                playerInfo[\"summonerId\"],\n",
    "                                playerInfo[\"wins\"],\n",
    "                                playerInfo[\"losses\"],\n",
    "                                playerInfo[\"leaguePoints\"]\n",
    "                                )\n",
    "                        players.add(entry)\n",
    "                except:\n",
    "                    print(\"Failed: \", region, queue, tier, div)\n",
    "\n",
    "\n",
    "\n",
    "# save\n",
    "players = list(players)\n",
    "playersDf = pd.DataFrame(players, \n",
    "                         columns=[\"region\", \"queue\", \n",
    "                                  \"tier\", \"div\", \n",
    "                                  \"leagueId\", \"summonerId\", \n",
    "                                  \"wins\", \"losses\", \n",
    "                                  \"leaguePoints\"])\n",
    "playersDf.to_parquet(\"./playerLeagues.parquet\", index=True)"
   ]
  },
  {
   "cell_type": "code",
   "execution_count": 2,
   "metadata": {},
   "outputs": [
    {
     "name": "stdout",
     "output_type": "stream",
     "text": [
      "<class 'pandas.core.frame.DataFrame'>\n",
      "Index: 92311 entries, 0 to 92310\n",
      "Data columns (total 9 columns):\n",
      " #   Column        Non-Null Count  Dtype \n",
      "---  ------        --------------  ----- \n",
      " 0   region        92311 non-null  object\n",
      " 1   queue         92311 non-null  object\n",
      " 2   tier          92311 non-null  object\n",
      " 3   div           92311 non-null  object\n",
      " 4   leagueId      92311 non-null  object\n",
      " 5   summonerId    92311 non-null  object\n",
      " 6   wins          92311 non-null  int64 \n",
      " 7   losses        92311 non-null  int64 \n",
      " 8   leaguePoints  92311 non-null  int64 \n",
      "dtypes: int64(3), object(6)\n",
      "memory usage: 7.0+ MB\n"
     ]
    }
   ],
   "source": [
    "playersDf = pd.read_parquet(\"./playerLeagues.parquet\")\n",
    "playersDf.info()"
   ]
  },
  {
   "cell_type": "code",
   "execution_count": 7,
   "metadata": {},
   "outputs": [
    {
     "name": "stdout",
     "output_type": "stream",
     "text": [
      "47\n",
      "10455\n"
     ]
    }
   ],
   "source": [
    "print(len(playersDf.iloc[40][\"summonerId\"]))\n",
    "print(len(playersDf[playersDf[\"tier\"]==\"GOLD\"]))"
   ]
  },
  {
   "cell_type": "code",
   "execution_count": 18,
   "metadata": {},
   "outputs": [
    {
     "name": "stdout",
     "output_type": "stream",
     "text": [
      "0 RANKED_SOLO_5x5\n"
     ]
    }
   ],
   "source": []
  },
  {
   "cell_type": "code",
   "execution_count": 22,
   "metadata": {},
   "outputs": [
    {
     "name": "stderr",
     "output_type": "stream",
     "text": [
      "2it [00:04,  2.22s/it]"
     ]
    },
    {
     "name": "stdout",
     "output_type": "stream",
     "text": [
      "Warning, failed entry:  502 Server Error: Bad Gateway for url: https://kr.api.riotgames.com/lol/summoner/v4/summoners/bCUPUTil4sEZC03DaaWho6x6ePU-y28MXtGO8p6KgjjzpCJPSsIO5gUi3w\n"
     ]
    },
    {
     "name": "stderr",
     "output_type": "stream",
     "text": [
      "4it [00:07,  1.74s/it]"
     ]
    },
    {
     "name": "stdout",
     "output_type": "stream",
     "text": [
      "Warning, failed entry:  502 Server Error: Bad Gateway for url: https://kr.api.riotgames.com/lol/summoner/v4/summoners/rtoc7_UY3QUs5bTCIAg7UsFRwMcmEjuEDHolmuGz_lMToDs\n"
     ]
    },
    {
     "name": "stderr",
     "output_type": "stream",
     "text": [
      "52it [01:17,  1.38s/it]"
     ]
    },
    {
     "name": "stdout",
     "output_type": "stream",
     "text": [
      "Warning, failed entry:  502 Server Error: Bad Gateway for url: https://jp1.api.riotgames.com/lol/summoner/v4/summoners/PbYGYRnqKbkfTl_piwda47vQMqy_MiQHDxQgDJkjnTlFDy6UzjQPN16TIg\n"
     ]
    },
    {
     "name": "stderr",
     "output_type": "stream",
     "text": [
      "54it [01:20,  1.37s/it]"
     ]
    },
    {
     "name": "stdout",
     "output_type": "stream",
     "text": [
      "Warning, failed entry:  502 Server Error: Bad Gateway for url: https://na1.api.riotgames.com/lol/summoner/v4/summoners/L0kVg1aDDzRv6WmKyq8JIsmBbAEY0DE8sqeeXtTIayEb3pXL\n"
     ]
    },
    {
     "name": "stderr",
     "output_type": "stream",
     "text": [
      "181it [04:21,  1.49s/it]"
     ]
    },
    {
     "name": "stdout",
     "output_type": "stream",
     "text": [
      "Warning, failed entry:  502 Server Error: Bad Gateway for url: https://na1.api.riotgames.com/lol/summoner/v4/summoners/fp85YDCileYC4IBOhXpAWiKExbQjVnCV7TTQ31PzuQz2bPsT\n"
     ]
    },
    {
     "name": "stderr",
     "output_type": "stream",
     "text": [
      "182it [04:22,  1.46s/it]"
     ]
    },
    {
     "name": "stdout",
     "output_type": "stream",
     "text": [
      "Warning, failed entry:  502 Server Error: Bad Gateway for url: https://na1.api.riotgames.com/lol/summoner/v4/summoners/dJ-bz5OUN4KMX4mSz_OboFTq6GL5ia1xWk1oqIU3rRGtLAUD\n"
     ]
    },
    {
     "name": "stderr",
     "output_type": "stream",
     "text": [
      "185it [04:26,  1.40s/it]"
     ]
    },
    {
     "name": "stdout",
     "output_type": "stream",
     "text": [
      "Warning, failed entry:  502 Server Error: Bad Gateway for url: https://na1.api.riotgames.com/lol/summoner/v4/summoners/rCI-RRF2FpIwZbC0IXQ5H2Ok_mCG3wlcv_aNgsF10uN2dCw\n"
     ]
    },
    {
     "name": "stderr",
     "output_type": "stream",
     "text": [
      "187it [04:29,  1.40s/it]"
     ]
    },
    {
     "name": "stdout",
     "output_type": "stream",
     "text": [
      "Warning, failed entry:  502 Server Error: Bad Gateway for url: https://na1.api.riotgames.com/lol/summoner/v4/summoners/SHiH3h6PnY5IztS2UtzkSCSpK3VKBZNStls1IYNbPau_HF9f\n"
     ]
    },
    {
     "name": "stderr",
     "output_type": "stream",
     "text": [
      "188it [04:31,  1.40s/it]"
     ]
    },
    {
     "name": "stdout",
     "output_type": "stream",
     "text": [
      "Warning, failed entry:  502 Server Error: Bad Gateway for url: https://na1.api.riotgames.com/lol/summoner/v4/summoners/yoCbLqjKy6LOaFeOv2MaQZ_8Rpx9YW0ZVn3XebUwu1lXQIw\n"
     ]
    },
    {
     "name": "stderr",
     "output_type": "stream",
     "text": [
      "353it [08:33,  1.45s/it]"
     ]
    },
    {
     "name": "stdout",
     "output_type": "stream",
     "text": [
      "Warning, failed entry:  502 Server Error: Bad Gateway for url: https://kr.api.riotgames.com/lol/summoner/v4/summoners/cOieNFPDTccf0b0TPJ-UFOG8YKxRy_PzFBpukOIh4yMo9owq\n"
     ]
    },
    {
     "name": "stderr",
     "output_type": "stream",
     "text": [
      "357it [08:39,  1.44s/it]"
     ]
    },
    {
     "name": "stdout",
     "output_type": "stream",
     "text": [
      "Warning, failed entry:  502 Server Error: Bad Gateway for url: https://kr.api.riotgames.com/lol/summoner/v4/summoners/r7jUOBDxz9K9broEI3iLoQhp1dbfESf8RzFrWKr5RF8pJcc\n"
     ]
    },
    {
     "name": "stderr",
     "output_type": "stream",
     "text": [
      "441it [10:38,  1.45s/it]\n"
     ]
    },
    {
     "ename": "KeyboardInterrupt",
     "evalue": "",
     "output_type": "error",
     "traceback": [
      "\u001b[1;31m---------------------------------------------------------------------------\u001b[0m",
      "\u001b[1;31mKeyboardInterrupt\u001b[0m                         Traceback (most recent call last)",
      "Cell \u001b[1;32mIn[22], line 5\u001b[0m\n\u001b[0;32m      3\u001b[0m puuids \u001b[38;5;241m=\u001b[39m \u001b[38;5;28mlist\u001b[39m()\n\u001b[0;32m      4\u001b[0m \u001b[38;5;28;01mfor\u001b[39;00m i, entry \u001b[38;5;129;01min\u001b[39;00m tqdm\u001b[38;5;241m.\u001b[39mtqdm(playersDf\u001b[38;5;241m.\u001b[39miterrows()):\n\u001b[1;32m----> 5\u001b[0m     time\u001b[38;5;241m.\u001b[39msleep(\u001b[38;5;241m120.\u001b[39m\u001b[38;5;241m/\u001b[39m\u001b[38;5;241m99.\u001b[39m)\n\u001b[0;32m      6\u001b[0m     \u001b[38;5;28;01mtry\u001b[39;00m:\n\u001b[0;32m      7\u001b[0m         summonerInfo \u001b[38;5;241m=\u001b[39m lolWatcher\u001b[38;5;241m.\u001b[39msummoner\u001b[38;5;241m.\u001b[39mby_id(region\u001b[38;5;241m=\u001b[39mentry[\u001b[38;5;124m\"\u001b[39m\u001b[38;5;124mregion\u001b[39m\u001b[38;5;124m\"\u001b[39m], encrypted_summoner_id\u001b[38;5;241m=\u001b[39m\u001b[38;5;28mstr\u001b[39m(entry[\u001b[38;5;124m\"\u001b[39m\u001b[38;5;124msummonerId\u001b[39m\u001b[38;5;124m\"\u001b[39m]))\n",
      "\u001b[1;31mKeyboardInterrupt\u001b[0m: "
     ]
    }
   ],
   "source": [
    "import tqdm\n",
    "# request puuid, search for matches, process match timeline data\n",
    "puuids = list()\n",
    "for i, entry in tqdm.tqdm(playersDf.iterrows()):\n",
    "    time.sleep(120./99.)\n",
    "    try:\n",
    "        summonerInfo = lolWatcher.summoner.by_id(region=entry[\"region\"], encrypted_summoner_id=str(entry[\"summonerId\"]))\n",
    "        puuids.append(summonerInfo[\"puuid\"])\n",
    "    except Exception as e:\n",
    "        print(\"Warning, failed entry: \", e)\n",
    "        puuids.append(None)\n",
    "        \n",
    "playersDf[\"puuid\"] = puuids\n",
    "playersDf.to_parquet(\"./playerLeagues-wPuuid.parquet\", index=True)\n"
   ]
  },
  {
   "cell_type": "code",
   "execution_count": null,
   "metadata": {},
   "outputs": [],
   "source": []
  },
  {
   "cell_type": "code",
   "execution_count": null,
   "metadata": {},
   "outputs": [],
   "source": []
  },
  {
   "cell_type": "code",
   "execution_count": null,
   "metadata": {},
   "outputs": [],
   "source": []
  }
 ],
 "metadata": {
  "kernelspec": {
   "display_name": "env",
   "language": "python",
   "name": "python3"
  },
  "language_info": {
   "codemirror_mode": {
    "name": "ipython",
    "version": 3
   },
   "file_extension": ".py",
   "mimetype": "text/x-python",
   "name": "python",
   "nbconvert_exporter": "python",
   "pygments_lexer": "ipython3",
   "version": "3.11.7"
  }
 },
 "nbformat": 4,
 "nbformat_minor": 2
}
